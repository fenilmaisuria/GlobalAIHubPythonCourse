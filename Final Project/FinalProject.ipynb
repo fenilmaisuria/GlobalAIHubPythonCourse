{
 "cells": [
  {
   "cell_type": "markdown",
   "metadata": {},
   "source": [
    "# Final Project Day5 05/02/2021"
   ]
  },
  {
   "cell_type": "markdown",
   "metadata": {},
   "source": [
    "![title](../img/FinalProject.png)"
   ]
  },
  {
   "cell_type": "markdown",
   "metadata": {},
   "source": [
    "## Employyes Class"
   ]
  },
  {
   "cell_type": "code",
   "execution_count": 1,
   "metadata": {},
   "outputs": [],
   "source": [
    "class Employees():\n",
    "    def __init__(self,eid,name,age):\n",
    "        self.employee_name = name\n",
    "        self.employee_age = age\n",
    "        self.eid = eid\n",
    "        \n",
    "    def language(self,language):\n",
    "        self.language = language\n",
    "        \n",
    "        person = {}\n",
    "        person[\"Id\"] = self.eid\n",
    "        person[\"Name\"] = self.employee_name \n",
    "        person[\"Age\"] = self.employee_age       \n",
    "        person[\"Language\"] = self.language\n",
    "        \n",
    "        p.append(person)\n",
    "        \n",
    "    def employeeInfo(self):\n",
    "        for i in range(len(p)):\n",
    "            print(\"\\nEmployee ID : \",p[i].get(\"Id\"))\n",
    "            print(\"Employee Name : \",p[i].get(\"Name\"))\n",
    "            print(\"Employee Age : \",p[i].get(\"Age\"))\n",
    "            print(\"Employee Language : \",p[i].get(\"Language\"))"
   ]
  },
  {
   "cell_type": "code",
   "execution_count": 2,
   "metadata": {},
   "outputs": [],
   "source": [
    "p = []\n",
    "eid = 0"
   ]
  },
  {
   "cell_type": "markdown",
   "metadata": {},
   "source": [
    "#### For Accesing Employee Class Information"
   ]
  },
  {
   "cell_type": "code",
   "execution_count": 3,
   "metadata": {},
   "outputs": [],
   "source": [
    "#e = Employees(eid,\"nil\",27)\n",
    "#eid+=1\n",
    "#e.language([\"Hindi\",\"Gujarati\"])\n",
    "#e.employeeInfo()"
   ]
  },
  {
   "cell_type": "markdown",
   "metadata": {},
   "source": [
    "## Manager Class"
   ]
  },
  {
   "cell_type": "code",
   "execution_count": 4,
   "metadata": {},
   "outputs": [],
   "source": [
    "class Manager(Employees):\n",
    "    def __init__(self,name,age,eid):\n",
    "        super().__init__(name,age,eid)\n",
    "        \n",
    "    def languageInfo(self):\n",
    "        unique_language = set()\n",
    "        language_list=[]\n",
    "        \n",
    "        for i in range(eid):\n",
    "            a = p[i].get(\"Language\")\n",
    "            for j in range(len(a)):\n",
    "                lng = a[j]\n",
    "                language_list.append(a[j])\n",
    "                unique_language.add(lng)\n",
    "                \n",
    "        most_useful_language = max(set(language_list), key = language_list.count) \n",
    "        print(\"Employee Selected Languages : \",language_list)\n",
    "        print(\"\\nAll Common Languages : \",unique_language)\n",
    "        print(\"\\nMost Employee Speak in : \",most_useful_language)\n"
   ]
  },
  {
   "cell_type": "markdown",
   "metadata": {},
   "source": [
    "#### For Accesing Manager Class Information"
   ]
  },
  {
   "cell_type": "code",
   "execution_count": 5,
   "metadata": {},
   "outputs": [],
   "source": [
    "#name = str(input(\"Enter Name : \"))\n",
    "#age = int(input(\"Enter Age : \"))\n",
    "#languages = [item for item in (input(\"Enter The Languages : \")).split()]\n",
    "        \n",
    "#m = Manager(eid,name,age)\n",
    "#eid+=1\n",
    "        \n",
    "#m.language(languages)\n",
    "#print(\"\\n--------------------Employee Information--------------------\\n\")\n",
    "#m.employeeInfo()\n",
    "#print(\"\\n--------------------Language Information--------------------\\n\")\n",
    "#m.languageInfo()"
   ]
  },
  {
   "cell_type": "code",
   "execution_count": 6,
   "metadata": {},
   "outputs": [
    {
     "name": "stdout",
     "output_type": "stream",
     "text": [
      "1 : Add Employees\n",
      "2 : Emaployees Information\n",
      "3 : Language Information\n",
      "4 : Exit\n"
     ]
    },
    {
     "name": "stdin",
     "output_type": "stream",
     "text": [
      "Enter Number :  1\n"
     ]
    },
    {
     "name": "stdout",
     "output_type": "stream",
     "text": [
      "Add Employees\n"
     ]
    },
    {
     "name": "stdin",
     "output_type": "stream",
     "text": [
      "Enter Name :  Fenil Maisuria\n",
      "Enter Age :  26\n",
      "Enter The Languages :  English Gujarati Hindi\n"
     ]
    },
    {
     "name": "stdout",
     "output_type": "stream",
     "text": [
      "1 : Add Employees\n",
      "2 : Emaployees Information\n",
      "3 : Language Information\n",
      "4 : Exit\n"
     ]
    },
    {
     "name": "stdin",
     "output_type": "stream",
     "text": [
      "Enter Number :  1\n"
     ]
    },
    {
     "name": "stdout",
     "output_type": "stream",
     "text": [
      "Add Employees\n"
     ]
    },
    {
     "name": "stdin",
     "output_type": "stream",
     "text": [
      "Enter Name :  Kevin\n",
      "Enter Age :  24\n",
      "Enter The Languages :  Marathi English Hindi\n"
     ]
    },
    {
     "name": "stdout",
     "output_type": "stream",
     "text": [
      "1 : Add Employees\n",
      "2 : Emaployees Information\n",
      "3 : Language Information\n",
      "4 : Exit\n"
     ]
    },
    {
     "name": "stdin",
     "output_type": "stream",
     "text": [
      "Enter Number :  1\n"
     ]
    },
    {
     "name": "stdout",
     "output_type": "stream",
     "text": [
      "Add Employees\n"
     ]
    },
    {
     "name": "stdin",
     "output_type": "stream",
     "text": [
      "Enter Name :  Jay\n",
      "Enter Age :  28\n",
      "Enter The Languages :  Hindi English Kannad\n"
     ]
    },
    {
     "name": "stdout",
     "output_type": "stream",
     "text": [
      "1 : Add Employees\n",
      "2 : Emaployees Information\n",
      "3 : Language Information\n",
      "4 : Exit\n"
     ]
    },
    {
     "name": "stdin",
     "output_type": "stream",
     "text": [
      "Enter Number :  2\n"
     ]
    },
    {
     "name": "stdout",
     "output_type": "stream",
     "text": [
      "Emaployees Information\n",
      "\n",
      "Employee ID :  0\n",
      "Employee Name :  Fenil Maisuria\n",
      "Employee Age :  26\n",
      "Employee Language :  ['English', 'Gujarati', 'Hindi']\n",
      "\n",
      "Employee ID :  1\n",
      "Employee Name :  Kevin\n",
      "Employee Age :  24\n",
      "Employee Language :  ['Marathi', 'English', 'Hindi']\n",
      "\n",
      "Employee ID :  2\n",
      "Employee Name :  Jay\n",
      "Employee Age :  28\n",
      "Employee Language :  ['Hindi', 'English', 'Kannad']\n",
      "\n",
      "--------------------Employee Information--------------------\n",
      "\n",
      "1 : Add Employees\n",
      "2 : Emaployees Information\n",
      "3 : Language Information\n",
      "4 : Exit\n"
     ]
    },
    {
     "name": "stdin",
     "output_type": "stream",
     "text": [
      "Enter Number :  3\n"
     ]
    },
    {
     "name": "stdout",
     "output_type": "stream",
     "text": [
      "Language Information\n",
      "\n",
      "--------------------Language Information--------------------\n",
      "\n",
      "Employee Selected Languages :  ['English', 'Gujarati', 'Hindi', 'Marathi', 'English', 'Hindi', 'Hindi', 'English', 'Kannad']\n",
      "\n",
      "All Common Languages :  {'Gujarati', 'English', 'Kannad', 'Marathi', 'Hindi'}\n",
      "\n",
      "Most Employee Speak in :  English\n",
      "1 : Add Employees\n",
      "2 : Emaployees Information\n",
      "3 : Language Information\n",
      "4 : Exit\n"
     ]
    },
    {
     "name": "stdin",
     "output_type": "stream",
     "text": [
      "Enter Number :  4\n"
     ]
    },
    {
     "name": "stdout",
     "output_type": "stream",
     "text": [
      "Exit\n"
     ]
    }
   ],
   "source": [
    "while True:\n",
    "    print(\"1 : Add Employees\\n2 : Emaployees Information\\n3 : Language Information\\n4 : Exit\")\n",
    "    n = int(input(\"Enter Number : \"))\n",
    "    if(n == 1):\n",
    "        print(\"Add Employees\")\n",
    "        name = str(input(\"Enter Name : \"))\n",
    "        age = int(input(\"Enter Age : \"))\n",
    "        languages = [item for item in (input(\"Enter The Languages : \")).split()]\n",
    "        m = Manager(eid,name,age)\n",
    "        eid+=1\n",
    "        m.language(languages)\n",
    "    elif(n==2):\n",
    "        print(\"Emaployees Information\")\n",
    "        m.employeeInfo()\n",
    "        print(\"\\n--------------------Employee Information--------------------\\n\")\n",
    "    elif(n==3):\n",
    "        print(\"Language Information\")\n",
    "        print(\"\\n--------------------Language Information--------------------\\n\")\n",
    "        m.languageInfo()\n",
    "    elif(n==4):\n",
    "        print(\"Exit\")\n",
    "        break\n",
    "    else:\n",
    "        print(\"Invalid Input Try Again.....\")\n",
    "        break\n",
    "        "
   ]
  },
  {
   "cell_type": "code",
   "execution_count": null,
   "metadata": {},
   "outputs": [],
   "source": []
  }
 ],
 "metadata": {
  "kernelspec": {
   "display_name": "Python 3",
   "language": "python",
   "name": "python3"
  },
  "language_info": {
   "codemirror_mode": {
    "name": "ipython",
    "version": 3
   },
   "file_extension": ".py",
   "mimetype": "text/x-python",
   "name": "python",
   "nbconvert_exporter": "python",
   "pygments_lexer": "ipython3",
   "version": "3.8.5"
  }
 },
 "nbformat": 4,
 "nbformat_minor": 4
}
