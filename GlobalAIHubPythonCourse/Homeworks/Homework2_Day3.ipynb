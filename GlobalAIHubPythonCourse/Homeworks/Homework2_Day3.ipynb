{
 "cells": [
  {
   "cell_type": "markdown",
   "metadata": {},
   "source": [
    "# Homework 2 Day3 03/02/2021"
   ]
  },
  {
   "cell_type": "markdown",
   "metadata": {},
   "source": [
    "![title](../img/Day3.png)"
   ]
  },
  {
   "cell_type": "code",
   "execution_count": 12,
   "metadata": {},
   "outputs": [
    {
     "name": "stdin",
     "output_type": "stream",
     "text": [
      "Enter Username  Admin\n",
      "Enter Password  Admin1234\n"
     ]
    },
    {
     "name": "stdout",
     "output_type": "stream",
     "text": [
      "Successfuly Login! \n"
     ]
    }
   ],
   "source": [
    "username = input(\"Enter Username \")\n",
    "password = input(\"Enter Password \")\n",
    "\n",
    "if username == 'Admin' and password == 'Admin1234':\n",
    "    print(\"Successfuly Login! \")\n",
    "else:\n",
    "    print(\"Invalid Username and Password\")"
   ]
  },
  {
   "cell_type": "markdown",
   "metadata": {},
   "source": [
    "## Extra task"
   ]
  },
  {
   "cell_type": "code",
   "execution_count": 13,
   "metadata": {},
   "outputs": [
    {
     "name": "stdin",
     "output_type": "stream",
     "text": [
      "Enter Username  admin\n",
      "Enter Password  pass\n"
     ]
    },
    {
     "name": "stdout",
     "output_type": "stream",
     "text": [
      "Invalid Username and Password\n"
     ]
    }
   ],
   "source": [
    "username = input(\"Enter Username \")\n",
    "password = input(\"Enter Password \")\n",
    "\n",
    "User = {\"username\":\"Admin\",\"password\":\"Admin1234\"}\n",
    "\n",
    "if username == User.get(\"username\") and password == User.get(\"password\"):\n",
    "    print(\"Successfuly Login! \")\n",
    "else:\n",
    "    print(\"Invalid Username and Password\")"
   ]
  }
 ],
 "metadata": {
  "kernelspec": {
   "display_name": "Python 3",
   "language": "python",
   "name": "python3"
  },
  "language_info": {
   "codemirror_mode": {
    "name": "ipython",
    "version": 3
   },
   "file_extension": ".py",
   "mimetype": "text/x-python",
   "name": "python",
   "nbconvert_exporter": "python",
   "pygments_lexer": "ipython3",
   "version": "3.8.5"
  }
 },
 "nbformat": 4,
 "nbformat_minor": 4
}
