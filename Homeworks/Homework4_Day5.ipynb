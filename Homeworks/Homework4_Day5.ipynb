{
 "cells": [
  {
   "cell_type": "markdown",
   "metadata": {},
   "source": [
    "# Homework 4 Day5 05/02/2021"
   ]
  },
  {
   "cell_type": "markdown",
   "metadata": {},
   "source": [
    "![title](../img/Day5.png)"
   ]
  },
  {
   "cell_type": "code",
   "execution_count": null,
   "metadata": {},
   "outputs": [],
   "source": [
    "class Animals():\n",
    "    def __init__(self,category,species):\n",
    "        self.category = category\n",
    "        self.species = species\n",
    "        \n",
    "    def animalInfo(self):\n",
    "        print(\"Wlcome To the Zoo\")\n",
    "        print(\"The animal belong to {} family and the species is : {}\".format(self.category,self.species))"
   ]
  },
  {
   "cell_type": "code",
   "execution_count": null,
   "metadata": {},
   "outputs": [],
   "source": [
    "a = Animals(\"Mammals\",\"Bird\")\n",
    "a.animalInfo()"
   ]
  },
  {
   "cell_type": "code",
   "execution_count": null,
   "metadata": {},
   "outputs": [],
   "source": [
    "class Dogs(Animals):\n",
    "    def __init__(self,category,species,name,breed):\n",
    "        super().__init__(category,species)\n",
    "        self.name = name\n",
    "        self.breed = breed\n",
    "        \n",
    "    def dogInfo(self):\n",
    "        print(\"\\n{} is Loyal Animal\".format(self.species))\n",
    "        print(\"Name is : \",self.name)\n",
    "        print(\"Breed Type :\",self.breed)\n",
    "\n",
    "    def dogDetails(self,color,ownername,foodtype):\n",
    "        print(\"\\nDogs have been bred by humans for a long time, and were the first animals ever to be domesticated\")\n",
    "        print(\"Color : \",color)\n",
    "        print(\"Owner Name : \",ownername)\n",
    "        print(\"Food Type : \",foodtype)"
   ]
  },
  {
   "cell_type": "code",
   "execution_count": null,
   "metadata": {},
   "outputs": [],
   "source": [
    "d = Dogs(\"Mammals\",\"Dog\",\"Jack\",\"German Shepherd\")\n",
    "d.animalInfo()\n",
    "d.dogInfo()\n",
    "d.dogDetails(\"Black\",\"Allen\",\"Milk\")"
   ]
  },
  {
   "cell_type": "code",
   "execution_count": null,
   "metadata": {},
   "outputs": [],
   "source": [
    "class Cats(Animals):\n",
    "    def __init__(self,category,species,name,breed):\n",
    "        super().__init__(category,species)\n",
    "        self.name = name\n",
    "        self.breed = breed\n",
    "        \n",
    "    def catInfo(self):\n",
    "        print(\"\\nThe {} is a domestic species of small carnivorous mammal. \".format(self.species))\n",
    "        print(\"Name is : \",self.name)\n",
    "        print(\"Breed Type :\",self.breed)\n",
    "\n",
    "    def catDetails(self,color,foodtype,age):\n",
    "        print(\"\\nDomestic Cats are often called 'house cats' when kept as indoor pets\")\n",
    "        print(\"Color : \",color)\n",
    "        print(\"Food Type : \",foodtype)\n",
    "        print(\"Age is : \",age)"
   ]
  },
  {
   "cell_type": "code",
   "execution_count": null,
   "metadata": {},
   "outputs": [],
   "source": [
    "c = Cats(\"Mammals\",\"Cat\",\"Maria\",\"Ragdoll\")\n",
    "c.animalInfo()\n",
    "c.catInfo()\n",
    "c.catDetails(\"White\",\"Milk\",5)"
   ]
  }
 ],
 "metadata": {
  "kernelspec": {
   "display_name": "Python 3",
   "language": "python",
   "name": "python3"
  },
  "language_info": {
   "codemirror_mode": {
    "name": "ipython",
    "version": 3
   },
   "file_extension": ".py",
   "mimetype": "text/x-python",
   "name": "python",
   "nbconvert_exporter": "python",
   "pygments_lexer": "ipython3",
   "version": "3.8.5"
  }
 },
 "nbformat": 4,
 "nbformat_minor": 4
}
