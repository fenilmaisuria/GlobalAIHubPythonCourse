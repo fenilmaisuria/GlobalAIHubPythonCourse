{
 "cells": [
  {
   "cell_type": "markdown",
   "metadata": {},
   "source": [
    "# Homework 1 Day2 02/02/2021"
   ]
  },
  {
   "cell_type": "markdown",
   "metadata": {},
   "source": [
    "![title](../img/Day2.png)"
   ]
  },
  {
   "cell_type": "markdown",
   "metadata": {},
   "source": [
    "## Task 1"
   ]
  },
  {
   "cell_type": "code",
   "execution_count": 1,
   "metadata": {},
   "outputs": [
    {
     "name": "stdin",
     "output_type": "stream",
     "text": [
      "Enter The Lst Items :  1 2 3 4 5 6 a b c d e f\n"
     ]
    },
    {
     "name": "stdout",
     "output_type": "stream",
     "text": [
      "\n",
      "Input Items :  ['1', '2', '3', '4', '5', '6', 'a', 'b', 'c', 'd', 'e', 'f']\n",
      "\n",
      "First Half :  ['1', '2', '3', '4', '5', '6']\n",
      "Second half :  ['a', 'b', 'c', 'd', 'e', 'f']\n",
      "\n",
      "Final Output :  ['a', 'b', 'c', 'd', 'e', 'f', '1', '2', '3', '4', '5', '6']\n"
     ]
    }
   ],
   "source": [
    "data = [item for item in (input(\"Enter The Lst Items : \")).split()]\n",
    "if len(data)%2==0:  \n",
    "    half=int(len(data)/2)\n",
    "    first_half = data[:half]\n",
    "    second_half = data[half:]\n",
    "    print(\"\\nInput Items : \",data)\n",
    "    print(\"\\nFirst Half : \",first_half)\n",
    "    print(\"Second half : \",second_half)\n",
    "    for i in range(len(data)):\n",
    "        if i < half:\n",
    "            data[i] = second_half[i]\n",
    "            data[half+i] = first_half[i]\n",
    "    print(\"\\nFinal Output : \",data) \n",
    "else:\n",
    "    print(\"Invalid Input\")\n",
    "    "
   ]
  },
  {
   "cell_type": "code",
   "execution_count": 8,
   "metadata": {},
   "outputs": [
    {
     "name": "stdin",
     "output_type": "stream",
     "text": [
      "Enter The Lst Items :  1 2 3 4\n"
     ]
    },
    {
     "name": "stdout",
     "output_type": "stream",
     "text": [
      "[['3', '4', '1', '2']]\n"
     ]
    }
   ],
   "source": [
    "data = [item for item in (input(\"Enter The Lst Items : \")).split()]\n",
    "half=int(len(data)/2)\n",
    "if len(data)%2==0:  \n",
    "    first_half = data[:half]\n",
    "    second_half = data[half:]\n",
    "    final_data = [second_half+first_half]\n",
    "    print(final_data)\n",
    "else:\n",
    "    print(\"Please enter valid input\")"
   ]
  },
  {
   "cell_type": "markdown",
   "metadata": {},
   "source": [
    "## Task 2"
   ]
  },
  {
   "cell_type": "code",
   "execution_count": 2,
   "metadata": {},
   "outputs": [
    {
     "name": "stdin",
     "output_type": "stream",
     "text": [
      "Enter Value 7\n"
     ]
    },
    {
     "name": "stdout",
     "output_type": "stream",
     "text": [
      "Even Value :  [0, 2, 4, 6]\n"
     ]
    }
   ],
   "source": [
    "n = int(input(\"Enter Value\"))\n",
    "if n <=9 :\n",
    "    even = []\n",
    "    for i in range(n+1):\n",
    "        if i%2==0:\n",
    "            #print(\"Even : \",i)\n",
    "            even.append(i)      \n",
    "    print(\"Even Value : \",even)\n",
    "else:\n",
    "    print(\"Enter Single Digit Number\")"
   ]
  }
 ],
 "metadata": {
  "kernelspec": {
   "display_name": "Python 3",
   "language": "python",
   "name": "python3"
  },
  "language_info": {
   "codemirror_mode": {
    "name": "ipython",
    "version": 3
   },
   "file_extension": ".py",
   "mimetype": "text/x-python",
   "name": "python",
   "nbconvert_exporter": "python",
   "pygments_lexer": "ipython3",
   "version": "3.8.5"
  }
 },
 "nbformat": 4,
 "nbformat_minor": 4
}
